{
 "cells": [
  {
   "cell_type": "code",
   "execution_count": 34,
   "metadata": {},
   "outputs": [],
   "source": [
    "%reload_ext autoreload\n",
    "%autoreload 2\n",
    "\n",
    "import sys\n",
    "import os\n",
    "from pathlib import Path\n",
    "import json_tricks\n",
    "\n",
    "path = Path('.').resolve()\n",
    "\n",
    "index = str(path).find('.laborantum')\n",
    "\n",
    "if index > 0:\n",
    "    path = str(path)[:index]\n",
    "\n",
    "os.chdir(path)\n",
    "\n",
    "path = Path(\".laborantum/texts/Homeworks/3. Matrices/12. Einstein's Rule\")\n",
    "\n",
    "debug_cases = json_tricks.load(\n",
    "    str(path / 'testcases' / 'debug_cases.json'))\n",
    "public_cases = json_tricks.load(\n",
    "    str(path / 'testcases' / 'public_cases.json'))"
   ]
  },
  {
   "cell_type": "code",
   "execution_count": 35,
   "metadata": {},
   "outputs": [],
   "source": [
    "import numpy as np\n",
    "\n",
    "\n",
    "\n",
    "def formula(A, B, C, D):\n",
    "    # print(A.shape, B.shape, C.shape, D.shape)\n",
    "    result = np.einsum('km,mn,no,lk->lo', A, B, C, D)\n",
    "    return result"
   ]
  },
  {
   "cell_type": "code",
   "execution_count": 36,
   "metadata": {},
   "outputs": [
    {
     "name": "stdout",
     "output_type": "stream",
     "text": [
      "(7, 8) (8, 7) (7, 3) (7, 7)\n",
      "(7, 1) (1, 8) (8, 5) (4, 7)\n",
      "(6, 6) (6, 2) (2, 5) (1, 6)\n",
      "(6, 1) (1, 6) (6, 6) (5, 6)\n",
      "(8, 3) (3, 1) (1, 3) (5, 8)\n",
      "(4, 7) (7, 7) (7, 5) (7, 4)\n",
      "(9, 3) (3, 1) (1, 1) (8, 9)\n",
      "(8, 7) (7, 7) (7, 2) (6, 8)\n",
      "(9, 5) (5, 1) (1, 4) (6, 9)\n",
      "(1, 1) (1, 3) (3, 8) (3, 1)\n",
      "(3, 7) (7, 6) (6, 9) (5, 3)\n",
      "(5, 9) (9, 1) (1, 1) (9, 5)\n",
      "(2, 2) (2, 9) (9, 1) (5, 2)\n",
      "(3, 2) (2, 8) (8, 3) (3, 3)\n",
      "(7, 7) (7, 4) (4, 2) (7, 7)\n",
      "(6, 2) (2, 7) (7, 2) (2, 6)\n",
      "(7, 5) (5, 4) (4, 5) (4, 7)\n",
      "(9, 9) (9, 8) (8, 2) (7, 9)\n",
      "(6, 6) (6, 2) (2, 7) (2, 6)\n",
      "(3, 4) (4, 5) (5, 3) (2, 3)\n",
      "(4, 8) (8, 5) (5, 7) (4, 4)\n",
      "(5, 1) (1, 8) (8, 3) (2, 5)\n",
      "(7, 7) (7, 2) (2, 4) (1, 7)\n",
      "(6, 2) (2, 5) (5, 5) (2, 6)\n",
      "(5, 9) (9, 6) (6, 2) (6, 5)\n",
      "(1, 5) (5, 9) (9, 7) (7, 1)\n",
      "(5, 5) (5, 5) (5, 4) (6, 5)\n",
      "(1, 6) (6, 1) (1, 7) (8, 1)\n",
      "(3, 3) (3, 7) (7, 9) (2, 3)\n",
      "(1, 2) (2, 9) (9, 4) (3, 1)\n",
      "(4, 4) (4, 4) (4, 8) (9, 4)\n",
      "(8, 3) (3, 7) (7, 3) (3, 8)\n",
      "(1, 7) (7, 6) (6, 3) (4, 1)\n",
      "(4, 1) (1, 8) (8, 5) (2, 4)\n",
      "(8, 3) (3, 8) (8, 6) (6, 8)\n",
      "(1, 8) (8, 4) (4, 6) (3, 1)\n",
      "(9, 3) (3, 9) (9, 3) (2, 9)\n",
      "(8, 2) (2, 7) (7, 5) (3, 8)\n",
      "(6, 5) (5, 3) (3, 6) (5, 6)\n",
      "(5, 6) (6, 7) (7, 1) (2, 5)\n",
      "0.0029990673065185547 <- Elapsed time\n"
     ]
    }
   ],
   "source": [
    "import time\n",
    "\n",
    "start = time.time()\n",
    "\n",
    "debug_result = [formula(**x) for x in debug_cases]\n",
    "answer = [formula(**x) for x in public_cases]\n",
    "\n",
    "print(time.time() - start, '<- Elapsed time')"
   ]
  },
  {
   "cell_type": "code",
   "execution_count": null,
   "metadata": {},
   "outputs": [],
   "source": []
  }
 ],
 "metadata": {
  "kernelspec": {
   "display_name": "Python 3",
   "language": "python",
   "name": "python3"
  },
  "language_info": {
   "codemirror_mode": {
    "name": "ipython",
    "version": 3
   },
   "file_extension": ".py",
   "mimetype": "text/x-python",
   "name": "python",
   "nbconvert_exporter": "python",
   "pygments_lexer": "ipython3",
   "version": "3.11.0"
  }
 },
 "nbformat": 4,
 "nbformat_minor": 2
}
